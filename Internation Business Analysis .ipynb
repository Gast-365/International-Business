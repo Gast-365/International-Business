{
 "cells": [
  {
   "cell_type": "code",
   "execution_count": 1,
   "id": "d232be84-9c8a-4ad6-ae50-3a9ceab9d4da",
   "metadata": {},
   "outputs": [],
   "source": [
    "# INTERNATIONAL BUESINESS ANALYSIS\n"
   ]
  },
  {
   "cell_type": "code",
   "execution_count": 2,
   "id": "1da37dc3-bc21-4ee9-816e-48c68e0709ea",
   "metadata": {},
   "outputs": [],
   "source": [
    "import pandas as pd\n",
    "import matplotlib.pyplot as plt \n",
    "import seaborn as sns\n",
    "sns.set()"
   ]
  },
  {
   "cell_type": "code",
   "execution_count": 3,
   "id": "5b24e625-bee0-4274-9383-4b9fe28ddb1a",
   "metadata": {},
   "outputs": [],
   "source": [
    "international_b = pd.read_excel(\"International_business.xlsx\")"
   ]
  },
  {
   "cell_type": "code",
   "execution_count": 4,
   "id": "cd5255af-20ec-44ef-ae98-4fe384f50754",
   "metadata": {},
   "outputs": [
    {
     "data": {
      "text/html": [
       "<div>\n",
       "<style scoped>\n",
       "    .dataframe tbody tr th:only-of-type {\n",
       "        vertical-align: middle;\n",
       "    }\n",
       "\n",
       "    .dataframe tbody tr th {\n",
       "        vertical-align: top;\n",
       "    }\n",
       "\n",
       "    .dataframe thead th {\n",
       "        text-align: right;\n",
       "    }\n",
       "</style>\n",
       "<table border=\"1\" class=\"dataframe\">\n",
       "  <thead>\n",
       "    <tr style=\"text-align: right;\">\n",
       "      <th></th>\n",
       "      <th>Month</th>\n",
       "      <th>Year</th>\n",
       "      <th>Country</th>\n",
       "      <th>Revenue</th>\n",
       "      <th>Cogs</th>\n",
       "      <th>Advertizing Spend</th>\n",
       "      <th>Staff costs</th>\n",
       "      <th>Headcount</th>\n",
       "      <th>Employee engagement</th>\n",
       "      <th>Webzite traffic</th>\n",
       "      <th>Gross Profit</th>\n",
       "    </tr>\n",
       "  </thead>\n",
       "  <tbody>\n",
       "    <tr>\n",
       "      <th>0</th>\n",
       "      <td>1</td>\n",
       "      <td>2019</td>\n",
       "      <td>USA</td>\n",
       "      <td>1801.846154</td>\n",
       "      <td>602.769231</td>\n",
       "      <td>317.560033</td>\n",
       "      <td>252.923077</td>\n",
       "      <td>125.538462</td>\n",
       "      <td>3.808359</td>\n",
       "      <td>69.025004</td>\n",
       "      <td>1199.076923</td>\n",
       "    </tr>\n",
       "    <tr>\n",
       "      <th>1</th>\n",
       "      <td>2</td>\n",
       "      <td>2019</td>\n",
       "      <td>USA</td>\n",
       "      <td>1705.192155</td>\n",
       "      <td>497.538462</td>\n",
       "      <td>316.668677</td>\n",
       "      <td>259.384615</td>\n",
       "      <td>136.615385</td>\n",
       "      <td>3.600339</td>\n",
       "      <td>57.520837</td>\n",
       "      <td>1207.653693</td>\n",
       "    </tr>\n",
       "    <tr>\n",
       "      <th>2</th>\n",
       "      <td>3</td>\n",
       "      <td>2019</td>\n",
       "      <td>USA</td>\n",
       "      <td>2013.230769</td>\n",
       "      <td>602.769231</td>\n",
       "      <td>318.155320</td>\n",
       "      <td>277.846154</td>\n",
       "      <td>146.769231</td>\n",
       "      <td>3.110693</td>\n",
       "      <td>60.851039</td>\n",
       "      <td>1410.461538</td>\n",
       "    </tr>\n",
       "    <tr>\n",
       "      <th>3</th>\n",
       "      <td>4</td>\n",
       "      <td>2019</td>\n",
       "      <td>USA</td>\n",
       "      <td>1908.703801</td>\n",
       "      <td>556.615385</td>\n",
       "      <td>323.662124</td>\n",
       "      <td>294.461538</td>\n",
       "      <td>154.153846</td>\n",
       "      <td>3.917169</td>\n",
       "      <td>64.960982</td>\n",
       "      <td>1352.088417</td>\n",
       "    </tr>\n",
       "    <tr>\n",
       "      <th>4</th>\n",
       "      <td>5</td>\n",
       "      <td>2019</td>\n",
       "      <td>USA</td>\n",
       "      <td>2069.076923</td>\n",
       "      <td>557.538462</td>\n",
       "      <td>350.616721</td>\n",
       "      <td>298.153846</td>\n",
       "      <td>156.923077</td>\n",
       "      <td>3.917169</td>\n",
       "      <td>64.960982</td>\n",
       "      <td>1511.538462</td>\n",
       "    </tr>\n",
       "    <tr>\n",
       "      <th>...</th>\n",
       "      <td>...</td>\n",
       "      <td>...</td>\n",
       "      <td>...</td>\n",
       "      <td>...</td>\n",
       "      <td>...</td>\n",
       "      <td>...</td>\n",
       "      <td>...</td>\n",
       "      <td>...</td>\n",
       "      <td>...</td>\n",
       "      <td>...</td>\n",
       "      <td>...</td>\n",
       "    </tr>\n",
       "    <tr>\n",
       "      <th>139</th>\n",
       "      <td>8</td>\n",
       "      <td>2021</td>\n",
       "      <td>Brazil</td>\n",
       "      <td>184.317605</td>\n",
       "      <td>125.335971</td>\n",
       "      <td>0.000000</td>\n",
       "      <td>10.855385</td>\n",
       "      <td>12.600000</td>\n",
       "      <td>3.344208</td>\n",
       "      <td>7.591650</td>\n",
       "      <td>58.981633</td>\n",
       "    </tr>\n",
       "    <tr>\n",
       "      <th>140</th>\n",
       "      <td>9</td>\n",
       "      <td>2021</td>\n",
       "      <td>Brazil</td>\n",
       "      <td>172.552651</td>\n",
       "      <td>117.335803</td>\n",
       "      <td>8.473712</td>\n",
       "      <td>8.141538</td>\n",
       "      <td>12.600000</td>\n",
       "      <td>3.082407</td>\n",
       "      <td>13.506881</td>\n",
       "      <td>55.216848</td>\n",
       "    </tr>\n",
       "    <tr>\n",
       "      <th>141</th>\n",
       "      <td>10</td>\n",
       "      <td>2021</td>\n",
       "      <td>Brazil</td>\n",
       "      <td>41.177337</td>\n",
       "      <td>28.000589</td>\n",
       "      <td>5.576725</td>\n",
       "      <td>8.141538</td>\n",
       "      <td>12.600000</td>\n",
       "      <td>3.082407</td>\n",
       "      <td>17.881562</td>\n",
       "      <td>13.176748</td>\n",
       "    </tr>\n",
       "    <tr>\n",
       "      <th>142</th>\n",
       "      <td>11</td>\n",
       "      <td>2021</td>\n",
       "      <td>Brazil</td>\n",
       "      <td>155.779977</td>\n",
       "      <td>105.930385</td>\n",
       "      <td>3.715127</td>\n",
       "      <td>10.176923</td>\n",
       "      <td>12.600000</td>\n",
       "      <td>3.278758</td>\n",
       "      <td>19.271988</td>\n",
       "      <td>49.849593</td>\n",
       "    </tr>\n",
       "    <tr>\n",
       "      <th>143</th>\n",
       "      <td>12</td>\n",
       "      <td>2021</td>\n",
       "      <td>Brazil</td>\n",
       "      <td>167.062339</td>\n",
       "      <td>113.602391</td>\n",
       "      <td>3.438286</td>\n",
       "      <td>11.194615</td>\n",
       "      <td>12.600000</td>\n",
       "      <td>3.376934</td>\n",
       "      <td>12.591977</td>\n",
       "      <td>53.459949</td>\n",
       "    </tr>\n",
       "  </tbody>\n",
       "</table>\n",
       "<p>144 rows × 11 columns</p>\n",
       "</div>"
      ],
      "text/plain": [
       "     Month  Year Country      Revenue        Cogs  Advertizing Spend  \\\n",
       "0        1  2019     USA  1801.846154  602.769231         317.560033   \n",
       "1        2  2019     USA  1705.192155  497.538462         316.668677   \n",
       "2        3  2019     USA  2013.230769  602.769231         318.155320   \n",
       "3        4  2019     USA  1908.703801  556.615385         323.662124   \n",
       "4        5  2019     USA  2069.076923  557.538462         350.616721   \n",
       "..     ...   ...     ...          ...         ...                ...   \n",
       "139      8  2021  Brazil   184.317605  125.335971           0.000000   \n",
       "140      9  2021  Brazil   172.552651  117.335803           8.473712   \n",
       "141     10  2021  Brazil    41.177337   28.000589           5.576725   \n",
       "142     11  2021  Brazil   155.779977  105.930385           3.715127   \n",
       "143     12  2021  Brazil   167.062339  113.602391           3.438286   \n",
       "\n",
       "     Staff costs   Headcount  Employee engagement  Webzite traffic  \\\n",
       "0     252.923077  125.538462             3.808359        69.025004   \n",
       "1     259.384615  136.615385             3.600339        57.520837   \n",
       "2     277.846154  146.769231             3.110693        60.851039   \n",
       "3     294.461538  154.153846             3.917169        64.960982   \n",
       "4     298.153846  156.923077             3.917169        64.960982   \n",
       "..           ...         ...                  ...              ...   \n",
       "139    10.855385   12.600000             3.344208         7.591650   \n",
       "140     8.141538   12.600000             3.082407        13.506881   \n",
       "141     8.141538   12.600000             3.082407        17.881562   \n",
       "142    10.176923   12.600000             3.278758        19.271988   \n",
       "143    11.194615   12.600000             3.376934        12.591977   \n",
       "\n",
       "     Gross Profit  \n",
       "0     1199.076923  \n",
       "1     1207.653693  \n",
       "2     1410.461538  \n",
       "3     1352.088417  \n",
       "4     1511.538462  \n",
       "..            ...  \n",
       "139     58.981633  \n",
       "140     55.216848  \n",
       "141     13.176748  \n",
       "142     49.849593  \n",
       "143     53.459949  \n",
       "\n",
       "[144 rows x 11 columns]"
      ]
     },
     "execution_count": 4,
     "metadata": {},
     "output_type": "execute_result"
    }
   ],
   "source": [
    "international_b"
   ]
  },
  {
   "cell_type": "code",
   "execution_count": 5,
   "id": "e4487020-1148-49cb-bcff-c9b2a3e341b5",
   "metadata": {},
   "outputs": [
    {
     "data": {
      "text/plain": [
       "Month                    int64\n",
       "Year                     int64\n",
       "Country                 object\n",
       "Revenue                float64\n",
       "Cogs                   float64\n",
       "Advertizing Spend      float64\n",
       "Staff costs            float64\n",
       "Headcount              float64\n",
       "Employee engagement    float64\n",
       "Webzite traffic        float64\n",
       "Gross Profit           float64\n",
       "dtype: object"
      ]
     },
     "execution_count": 5,
     "metadata": {},
     "output_type": "execute_result"
    }
   ],
   "source": [
    "international_b.dtypes"
   ]
  },
  {
   "cell_type": "code",
   "execution_count": 6,
   "id": "6aca1a1d-f58e-4721-a3d3-02090bcf7f47",
   "metadata": {},
   "outputs": [
    {
     "data": {
      "text/plain": [
       "Index(['Month', 'Year', 'Country', 'Revenue', 'Cogs', 'Advertizing Spend',\n",
       "       'Staff costs', 'Headcount', 'Employee engagement', 'Webzite traffic',\n",
       "       'Gross Profit'],\n",
       "      dtype='object')"
      ]
     },
     "execution_count": 6,
     "metadata": {},
     "output_type": "execute_result"
    }
   ],
   "source": [
    "international_b.columns"
   ]
  },
  {
   "cell_type": "code",
   "execution_count": 9,
   "id": "e275e368-94ba-45e3-a20f-34855340dbff",
   "metadata": {},
   "outputs": [
    {
     "data": {
      "text/plain": [
       "<bound method NDFrame.describe of      Month  Year Country      Revenue        Cogs  Advertizing Spend  \\\n",
       "0        1  2019     USA  1801.846154  602.769231         317.560033   \n",
       "1        2  2019     USA  1705.192155  497.538462         316.668677   \n",
       "2        3  2019     USA  2013.230769  602.769231         318.155320   \n",
       "3        4  2019     USA  1908.703801  556.615385         323.662124   \n",
       "4        5  2019     USA  2069.076923  557.538462         350.616721   \n",
       "..     ...   ...     ...          ...         ...                ...   \n",
       "139      8  2021  Brazil   184.317605  125.335971           0.000000   \n",
       "140      9  2021  Brazil   172.552651  117.335803           8.473712   \n",
       "141     10  2021  Brazil    41.177337   28.000589           5.576725   \n",
       "142     11  2021  Brazil   155.779977  105.930385           3.715127   \n",
       "143     12  2021  Brazil   167.062339  113.602391           3.438286   \n",
       "\n",
       "     Staff costs   Headcount  Employee engagement  Webzite traffic  \\\n",
       "0     252.923077  125.538462             3.808359        69.025004   \n",
       "1     259.384615  136.615385             3.600339        57.520837   \n",
       "2     277.846154  146.769231             3.110693        60.851039   \n",
       "3     294.461538  154.153846             3.917169        64.960982   \n",
       "4     298.153846  156.923077             3.917169        64.960982   \n",
       "..           ...         ...                  ...              ...   \n",
       "139    10.855385   12.600000             3.344208         7.591650   \n",
       "140     8.141538   12.600000             3.082407        13.506881   \n",
       "141     8.141538   12.600000             3.082407        17.881562   \n",
       "142    10.176923   12.600000             3.278758        19.271988   \n",
       "143    11.194615   12.600000             3.376934        12.591977   \n",
       "\n",
       "     Gross Profit  \n",
       "0     1199.076923  \n",
       "1     1207.653693  \n",
       "2     1410.461538  \n",
       "3     1352.088417  \n",
       "4     1511.538462  \n",
       "..            ...  \n",
       "139     58.981633  \n",
       "140     55.216848  \n",
       "141     13.176748  \n",
       "142     49.849593  \n",
       "143     53.459949  \n",
       "\n",
       "[144 rows x 11 columns]>"
      ]
     },
     "execution_count": 9,
     "metadata": {},
     "output_type": "execute_result"
    }
   ],
   "source": [
    "international_b.describe"
   ]
  },
  {
   "cell_type": "code",
   "execution_count": 7,
   "id": "25a16823-2ee1-4896-8648-3eacfdb5a366",
   "metadata": {},
   "outputs": [
    {
     "data": {
      "image/png": "[encoded data removed]",
      "text/plain": [
       "<Figure size 1000x500 with 1 Axes>"
      ]
     },
     "metadata": {},
     "output_type": "display_data"
    }
   ],
   "source": [
    "plt.figure(figsize = (10, 5))\n",
    "sns.set_style(\"white\")\n",
    "plt.bar(x= international_b[\"Country\"],\n",
    "        height = international_b[\"Revenue\"],\n",
    "       color = \"#03045e\")\n",
    "              \n",
    "plt.xticks (fontsize = 12)\n",
    "plt.yticks (fontsize = 12)\n",
    "plt.ylabel (\"Revenue by country\", fontsize = 12, weight = \"bold\")\n",
    "plt.xlabel (\"Countries\", fontsize = 12, weight = \"bold\")\n",
    "plt.title (\"Company revenue by country\", fontsize = 12, weight = \"bold\")\n",
    "sns.despine()\n",
    "plt.show()"
   ]
  },
  {
   "cell_type": "code",
   "execution_count": null,
   "id": "67ed9489-ad37-4bf2-a9c2-202707275b7c",
   "metadata": {},
   "outputs": [],
   "source": []
  },
  {
   "cell_type": "code",
   "execution_count": 8,
   "id": "b389c837-69cc-479a-966b-24e593927f7d",
   "metadata": {},
   "outputs": [
    {
     "data": {
      "image/png": "[encoded data removed]",
      "text/plain": [
       "<Figure size 1000x500 with 1 Axes>"
      ]
     },
     "metadata": {},
     "output_type": "display_data"
    }
   ],
   "source": [
    "plt.figure(figsize = (10, 5))\n",
    "sns.set_style(\"white\")\n",
    "scatter= plt.scatter(international_b[\"Advertizing Spend\"],\n",
    "            international_b[\"Staff costs\"],\n",
    "                     color= \"#00b4d8\")         \n",
    "plt.title (\"Expenses comparison: Advertising & Staff costs \",fontsize = 12, weight = (\"bold\"))\n",
    "plt.ylabel (\"Advertizing Spend\", fontsize = 12, weight = (\"bold\"))\n",
    "plt.xlabel (\"Staff costs\",fontsize = 12, weight = (\"bold\"))\n",
    "sns.despine()\n",
    "\n",
    "plt.show()"
   ]
  },
  {
   "cell_type": "code",
   "execution_count": null,
   "id": "f6252659-623e-4a44-bcb7-1c29a160a539",
   "metadata": {},
   "outputs": [],
   "source": []
  }
 ],
 "metadata": {
  "kernelspec": {
   "display_name": "Python [conda env:base] *",
   "language": "python",
   "name": "conda-base-py"
  },
  "language_info": {
   "codemirror_mode": {
    "name": "ipython",
    "version": 3
   },
   "file_extension": ".py",
   "mimetype": "text/x-python",
   "name": "python",
   "nbconvert_exporter": "python",
   "pygments_lexer": "ipython3",
   "version": "3.13.5"
  }
 },
 "nbformat": 4,
 "nbformat_minor": 5
}
